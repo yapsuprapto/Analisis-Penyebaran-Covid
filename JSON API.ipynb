{
 "cells": [
  {
   "cell_type": "markdown",
   "metadata": {},
   "source": [
    "# Live Linear Regression Analysis of Indonesia's Covid-19 real-time cases data"
   ]
  },
  {
   "cell_type": "code",
   "execution_count": 25,
   "metadata": {},
   "outputs": [],
   "source": [
    "import numpy as np\n",
    "import pandas as pd\n",
    "import matplotlib.pyplot as plt\n",
    "import statsmodels.api as sm\n",
    "import seaborn as sns\n",
    "import requests\n",
    "import json\n",
    "sns.set()\n"
   ]
  },
  {
   "cell_type": "code",
   "execution_count": 78,
   "metadata": {},
   "outputs": [
    {
     "data": {
      "text/html": [
       "<div>\n",
       "<style scoped>\n",
       "    .dataframe tbody tr th:only-of-type {\n",
       "        vertical-align: middle;\n",
       "    }\n",
       "\n",
       "    .dataframe tbody tr th {\n",
       "        vertical-align: top;\n",
       "    }\n",
       "\n",
       "    .dataframe thead th {\n",
       "        text-align: right;\n",
       "    }\n",
       "</style>\n",
       "<table border=\"1\" class=\"dataframe\">\n",
       "  <thead>\n",
       "    <tr style=\"text-align: right;\">\n",
       "      <th></th>\n",
       "      <th>Date</th>\n",
       "      <th>Deaths</th>\n",
       "      <th>Recovered</th>\n",
       "      <th>Active</th>\n",
       "    </tr>\n",
       "  </thead>\n",
       "  <tbody>\n",
       "    <tr>\n",
       "      <th>0</th>\n",
       "      <td>2020-04-13 00:00:00+00:00</td>\n",
       "      <td>373</td>\n",
       "      <td>359</td>\n",
       "      <td>3509</td>\n",
       "    </tr>\n",
       "    <tr>\n",
       "      <th>1</th>\n",
       "      <td>2020-04-14 00:00:00+00:00</td>\n",
       "      <td>399</td>\n",
       "      <td>380</td>\n",
       "      <td>3778</td>\n",
       "    </tr>\n",
       "    <tr>\n",
       "      <th>2</th>\n",
       "      <td>2020-04-15 00:00:00+00:00</td>\n",
       "      <td>459</td>\n",
       "      <td>426</td>\n",
       "      <td>3954</td>\n",
       "    </tr>\n",
       "    <tr>\n",
       "      <th>3</th>\n",
       "      <td>2020-04-16 00:00:00+00:00</td>\n",
       "      <td>498</td>\n",
       "      <td>548</td>\n",
       "      <td>4470</td>\n",
       "    </tr>\n",
       "    <tr>\n",
       "      <th>4</th>\n",
       "      <td>2020-04-17 00:00:00+00:00</td>\n",
       "      <td>496</td>\n",
       "      <td>548</td>\n",
       "      <td>4472</td>\n",
       "    </tr>\n",
       "    <tr>\n",
       "      <th>5</th>\n",
       "      <td>2020-04-18 00:00:00+00:00</td>\n",
       "      <td>520</td>\n",
       "      <td>607</td>\n",
       "      <td>4796</td>\n",
       "    </tr>\n",
       "    <tr>\n",
       "      <th>6</th>\n",
       "      <td>2020-04-19 00:00:00+00:00</td>\n",
       "      <td>535</td>\n",
       "      <td>631</td>\n",
       "      <td>5082</td>\n",
       "    </tr>\n",
       "    <tr>\n",
       "      <th>7</th>\n",
       "      <td>2020-04-20 00:00:00+00:00</td>\n",
       "      <td>582</td>\n",
       "      <td>686</td>\n",
       "      <td>5307</td>\n",
       "    </tr>\n",
       "    <tr>\n",
       "      <th>8</th>\n",
       "      <td>2020-04-21 00:00:00+00:00</td>\n",
       "      <td>590</td>\n",
       "      <td>747</td>\n",
       "      <td>5423</td>\n",
       "    </tr>\n",
       "    <tr>\n",
       "      <th>9</th>\n",
       "      <td>2020-04-22 00:00:00+00:00</td>\n",
       "      <td>616</td>\n",
       "      <td>842</td>\n",
       "      <td>5677</td>\n",
       "    </tr>\n",
       "    <tr>\n",
       "      <th>10</th>\n",
       "      <td>2020-04-23 00:00:00+00:00</td>\n",
       "      <td>635</td>\n",
       "      <td>913</td>\n",
       "      <td>5870</td>\n",
       "    </tr>\n",
       "    <tr>\n",
       "      <th>11</th>\n",
       "      <td>2020-04-24 00:00:00+00:00</td>\n",
       "      <td>647</td>\n",
       "      <td>960</td>\n",
       "      <td>6168</td>\n",
       "    </tr>\n",
       "    <tr>\n",
       "      <th>12</th>\n",
       "      <td>2020-04-25 00:00:00+00:00</td>\n",
       "      <td>689</td>\n",
       "      <td>1002</td>\n",
       "      <td>6520</td>\n",
       "    </tr>\n",
       "    <tr>\n",
       "      <th>13</th>\n",
       "      <td>2020-04-26 00:00:00+00:00</td>\n",
       "      <td>720</td>\n",
       "      <td>1042</td>\n",
       "      <td>6845</td>\n",
       "    </tr>\n",
       "    <tr>\n",
       "      <th>14</th>\n",
       "      <td>2020-04-27 00:00:00+00:00</td>\n",
       "      <td>743</td>\n",
       "      <td>1107</td>\n",
       "      <td>7032</td>\n",
       "    </tr>\n",
       "    <tr>\n",
       "      <th>15</th>\n",
       "      <td>2020-04-28 00:00:00+00:00</td>\n",
       "      <td>765</td>\n",
       "      <td>1151</td>\n",
       "      <td>7180</td>\n",
       "    </tr>\n",
       "  </tbody>\n",
       "</table>\n",
       "</div>"
      ],
      "text/plain": [
       "                        Date  Deaths  Recovered  Active\n",
       "0  2020-04-13 00:00:00+00:00     373        359    3509\n",
       "1  2020-04-14 00:00:00+00:00     399        380    3778\n",
       "2  2020-04-15 00:00:00+00:00     459        426    3954\n",
       "3  2020-04-16 00:00:00+00:00     498        548    4470\n",
       "4  2020-04-17 00:00:00+00:00     496        548    4472\n",
       "5  2020-04-18 00:00:00+00:00     520        607    4796\n",
       "6  2020-04-19 00:00:00+00:00     535        631    5082\n",
       "7  2020-04-20 00:00:00+00:00     582        686    5307\n",
       "8  2020-04-21 00:00:00+00:00     590        747    5423\n",
       "9  2020-04-22 00:00:00+00:00     616        842    5677\n",
       "10 2020-04-23 00:00:00+00:00     635        913    5870\n",
       "11 2020-04-24 00:00:00+00:00     647        960    6168\n",
       "12 2020-04-25 00:00:00+00:00     689       1002    6520\n",
       "13 2020-04-26 00:00:00+00:00     720       1042    6845\n",
       "14 2020-04-27 00:00:00+00:00     743       1107    7032\n",
       "15 2020-04-28 00:00:00+00:00     765       1151    7180"
      ]
     },
     "execution_count": 78,
     "metadata": {},
     "output_type": "execute_result"
    }
   ],
   "source": [
    "API = requests.get('https://api.covid19api.com/live/country/indonesia/status/confirmed').json()\n",
    "\n",
    "df = pd.read_json(json.dumps(API))\n",
    "df = df.filter(['Date','Deaths','Recovered','Active'])\n",
    "df=df.drop([16,17,18], axis = 0)\n",
    "\n",
    "df"
   ]
  },
  {
   "cell_type": "code",
   "execution_count": 80,
   "metadata": {},
   "outputs": [
    {
     "data": {
      "image/png": "[encoded data removed]",
      "text/plain": [
       "<Figure size 432x288 with 1 Axes>"
      ]
     },
     "metadata": {},
     "output_type": "display_data"
    }
   ],
   "source": [
    "plt.plot(df['Date'],df['Recovered'])\n",
    "plt.plot(df['Date'],df['Deaths'])\n",
    "plt.plot(df['Date'],df['Active'])\n",
    "plt.scatter(df['Date'],df['Recovered'])\n",
    "plt.scatter(df['Date'],df['Deaths'])\n",
    "plt.scatter(df['Date'],df['Active'])\n",
    "plt.show()\n"
   ]
  },
  {
   "cell_type": "code",
   "execution_count": 54,
   "metadata": {},
   "outputs": [
    {
     "name": "stderr",
     "output_type": "stream",
     "text": [
      "D:\\New folder\\lib\\site-packages\\scipy\\stats\\stats.py:1603: UserWarning: kurtosistest only valid for n>=20 ... continuing anyway, n=19\n",
      "  warnings.warn(\"kurtosistest only valid for n>=20 ... continuing \"\n"
     ]
    },
    {
     "data": {
      "text/html": [
       "<table class=\"simpletable\">\n",
       "<caption>OLS Regression Results</caption>\n",
       "<tr>\n",
       "  <th>Dep. Variable:</th>         <td>Active</td>      <th>  R-squared:         </th> <td>   0.940</td>\n",
       "</tr>\n",
       "<tr>\n",
       "  <th>Model:</th>                   <td>OLS</td>       <th>  Adj. R-squared:    </th> <td>   0.936</td>\n",
       "</tr>\n",
       "<tr>\n",
       "  <th>Method:</th>             <td>Least Squares</td>  <th>  F-statistic:       </th> <td>   265.9</td>\n",
       "</tr>\n",
       "<tr>\n",
       "  <th>Date:</th>             <td>Sun, 18 Oct 2020</td> <th>  Prob (F-statistic):</th> <td>8.17e-12</td>\n",
       "</tr>\n",
       "<tr>\n",
       "  <th>Time:</th>                 <td>20:38:04</td>     <th>  Log-Likelihood:    </th> <td> -140.56</td>\n",
       "</tr>\n",
       "<tr>\n",
       "  <th>No. Observations:</th>      <td>    19</td>      <th>  AIC:               </th> <td>   285.1</td>\n",
       "</tr>\n",
       "<tr>\n",
       "  <th>Df Residuals:</th>          <td>    17</td>      <th>  BIC:               </th> <td>   287.0</td>\n",
       "</tr>\n",
       "<tr>\n",
       "  <th>Df Model:</th>              <td>     1</td>      <th>                     </th>     <td> </td>   \n",
       "</tr>\n",
       "<tr>\n",
       "  <th>Covariance Type:</th>      <td>nonrobust</td>    <th>                     </th>     <td> </td>   \n",
       "</tr>\n",
       "</table>\n",
       "<table class=\"simpletable\">\n",
       "<tr>\n",
       "      <td></td>         <th>coef</th>     <th>std err</th>      <th>t</th>      <th>P>|t|</th>  <th>[0.025</th>    <th>0.975]</th>  \n",
       "</tr>\n",
       "<tr>\n",
       "  <th>const</th>     <td> 3062.2258</td> <td>  199.294</td> <td>   15.365</td> <td> 0.000</td> <td> 2641.751</td> <td> 3482.700</td>\n",
       "</tr>\n",
       "<tr>\n",
       "  <th>Recovered</th> <td>    3.0119</td> <td>    0.185</td> <td>   16.306</td> <td> 0.000</td> <td>    2.622</td> <td>    3.402</td>\n",
       "</tr>\n",
       "</table>\n",
       "<table class=\"simpletable\">\n",
       "<tr>\n",
       "  <th>Omnibus:</th>       <td> 0.587</td> <th>  Durbin-Watson:     </th> <td>   0.442</td>\n",
       "</tr>\n",
       "<tr>\n",
       "  <th>Prob(Omnibus):</th> <td> 0.746</td> <th>  Jarque-Bera (JB):  </th> <td>   0.616</td>\n",
       "</tr>\n",
       "<tr>\n",
       "  <th>Skew:</th>          <td> 0.128</td> <th>  Prob(JB):          </th> <td>   0.735</td>\n",
       "</tr>\n",
       "<tr>\n",
       "  <th>Kurtosis:</th>      <td> 2.156</td> <th>  Cond. No.          </th> <td>2.24e+03</td>\n",
       "</tr>\n",
       "</table><br/><br/>Warnings:<br/>[1] Standard Errors assume that the covariance matrix of the errors is correctly specified.<br/>[2] The condition number is large, 2.24e+03. This might indicate that there are<br/>strong multicollinearity or other numerical problems."
      ],
      "text/plain": [
       "<class 'statsmodels.iolib.summary.Summary'>\n",
       "\"\"\"\n",
       "                            OLS Regression Results                            \n",
       "==============================================================================\n",
       "Dep. Variable:                 Active   R-squared:                       0.940\n",
       "Model:                            OLS   Adj. R-squared:                  0.936\n",
       "Method:                 Least Squares   F-statistic:                     265.9\n",
       "Date:                Sun, 18 Oct 2020   Prob (F-statistic):           8.17e-12\n",
       "Time:                        20:38:04   Log-Likelihood:                -140.56\n",
       "No. Observations:                  19   AIC:                             285.1\n",
       "Df Residuals:                      17   BIC:                             287.0\n",
       "Df Model:                           1                                         \n",
       "Covariance Type:            nonrobust                                         \n",
       "==============================================================================\n",
       "                 coef    std err          t      P>|t|      [0.025      0.975]\n",
       "------------------------------------------------------------------------------\n",
       "const       3062.2258    199.294     15.365      0.000    2641.751    3482.700\n",
       "Recovered      3.0119      0.185     16.306      0.000       2.622       3.402\n",
       "==============================================================================\n",
       "Omnibus:                        0.587   Durbin-Watson:                   0.442\n",
       "Prob(Omnibus):                  0.746   Jarque-Bera (JB):                0.616\n",
       "Skew:                           0.128   Prob(JB):                        0.735\n",
       "Kurtosis:                       2.156   Cond. No.                     2.24e+03\n",
       "==============================================================================\n",
       "\n",
       "Warnings:\n",
       "[1] Standard Errors assume that the covariance matrix of the errors is correctly specified.\n",
       "[2] The condition number is large, 2.24e+03. This might indicate that there are\n",
       "strong multicollinearity or other numerical problems.\n",
       "\"\"\""
      ]
     },
     "execution_count": 54,
     "metadata": {},
     "output_type": "execute_result"
    }
   ],
   "source": [
    "x = sm.add_constant(x1)\n",
    "results = sm.OLS(y,x).fit()\n",
    "results.summary()\n"
   ]
  },
  {
   "cell_type": "code",
   "execution_count": 92,
   "metadata": {},
   "outputs": [
    {
     "data": {
      "image/png": "[encoded data removed]",
      "text/plain": [
       "<Figure size 432x288 with 1 Axes>"
      ]
     },
     "metadata": {},
     "output_type": "display_data"
    }
   ],
   "source": [
    "y = df['Active']\n",
    "x1 = df['Recovered']\n",
    "plt.scatter(x1,y)\n",
    "\n",
    "yhat_no = 3062.2258 + 3.0119*x1\n",
    "yhat_yes = 3065.2377 + 3.0119*x1\n",
    "\n",
    "fig = plt.plot(x1,yhat_no, lw= 3, c='Red')\n",
    "fig = plt.plot(x1,yhat_yes, lw= 3, c ='Yellow')\n",
    "\n",
    "plt.xlabel('Recovered', fontsize = 20)\n",
    "plt.ylabel('Active',fontsize = 20)\n",
    "\n",
    "plt.show()"
   ]
  },
  {
   "cell_type": "code",
   "execution_count": 90,
   "metadata": {},
   "outputs": [
    {
     "name": "stderr",
     "output_type": "stream",
     "text": [
      "D:\\New folder\\lib\\site-packages\\scipy\\stats\\stats.py:1603: UserWarning: kurtosistest only valid for n>=20 ... continuing anyway, n=16\n",
      "  warnings.warn(\"kurtosistest only valid for n>=20 ... continuing \"\n"
     ]
    },
    {
     "data": {
      "text/html": [
       "<table class=\"simpletable\">\n",
       "<caption>OLS Regression Results</caption>\n",
       "<tr>\n",
       "  <th>Dep. Variable:</th>         <td>Deaths</td>      <th>  R-squared:         </th> <td>   0.980</td>\n",
       "</tr>\n",
       "<tr>\n",
       "  <th>Model:</th>                   <td>OLS</td>       <th>  Adj. R-squared:    </th> <td>   0.978</td>\n",
       "</tr>\n",
       "<tr>\n",
       "  <th>Method:</th>             <td>Least Squares</td>  <th>  F-statistic:       </th> <td>   670.1</td>\n",
       "</tr>\n",
       "<tr>\n",
       "  <th>Date:</th>             <td>Sun, 18 Oct 2020</td> <th>  Prob (F-statistic):</th> <td>3.18e-13</td>\n",
       "</tr>\n",
       "<tr>\n",
       "  <th>Time:</th>                 <td>22:08:06</td>     <th>  Log-Likelihood:    </th> <td> -67.481</td>\n",
       "</tr>\n",
       "<tr>\n",
       "  <th>No. Observations:</th>      <td>    16</td>      <th>  AIC:               </th> <td>   139.0</td>\n",
       "</tr>\n",
       "<tr>\n",
       "  <th>Df Residuals:</th>          <td>    14</td>      <th>  BIC:               </th> <td>   140.5</td>\n",
       "</tr>\n",
       "<tr>\n",
       "  <th>Df Model:</th>              <td>     1</td>      <th>                     </th>     <td> </td>   \n",
       "</tr>\n",
       "<tr>\n",
       "  <th>Covariance Type:</th>      <td>nonrobust</td>    <th>                     </th>     <td> </td>   \n",
       "</tr>\n",
       "</table>\n",
       "<table class=\"simpletable\">\n",
       "<tr>\n",
       "      <td></td>         <th>coef</th>     <th>std err</th>      <th>t</th>      <th>P>|t|</th>  <th>[0.025</th>    <th>0.975]</th>  \n",
       "</tr>\n",
       "<tr>\n",
       "  <th>const</th>     <td>  244.9553</td> <td>   13.638</td> <td>   17.962</td> <td> 0.000</td> <td>  215.706</td> <td>  274.205</td>\n",
       "</tr>\n",
       "<tr>\n",
       "  <th>Recovered</th> <td>    0.4475</td> <td>    0.017</td> <td>   25.885</td> <td> 0.000</td> <td>    0.410</td> <td>    0.485</td>\n",
       "</tr>\n",
       "</table>\n",
       "<table class=\"simpletable\">\n",
       "<tr>\n",
       "  <th>Omnibus:</th>       <td> 0.497</td> <th>  Durbin-Watson:     </th> <td>   0.984</td>\n",
       "</tr>\n",
       "<tr>\n",
       "  <th>Prob(Omnibus):</th> <td> 0.780</td> <th>  Jarque-Bera (JB):  </th> <td>   0.393</td>\n",
       "</tr>\n",
       "<tr>\n",
       "  <th>Skew:</th>          <td>-0.331</td> <th>  Prob(JB):          </th> <td>   0.822</td>\n",
       "</tr>\n",
       "<tr>\n",
       "  <th>Kurtosis:</th>      <td> 2.612</td> <th>  Cond. No.          </th> <td>2.45e+03</td>\n",
       "</tr>\n",
       "</table><br/><br/>Warnings:<br/>[1] Standard Errors assume that the covariance matrix of the errors is correctly specified.<br/>[2] The condition number is large, 2.45e+03. This might indicate that there are<br/>strong multicollinearity or other numerical problems."
      ],
      "text/plain": [
       "<class 'statsmodels.iolib.summary.Summary'>\n",
       "\"\"\"\n",
       "                            OLS Regression Results                            \n",
       "==============================================================================\n",
       "Dep. Variable:                 Deaths   R-squared:                       0.980\n",
       "Model:                            OLS   Adj. R-squared:                  0.978\n",
       "Method:                 Least Squares   F-statistic:                     670.1\n",
       "Date:                Sun, 18 Oct 2020   Prob (F-statistic):           3.18e-13\n",
       "Time:                        22:08:06   Log-Likelihood:                -67.481\n",
       "No. Observations:                  16   AIC:                             139.0\n",
       "Df Residuals:                      14   BIC:                             140.5\n",
       "Df Model:                           1                                         \n",
       "Covariance Type:            nonrobust                                         \n",
       "==============================================================================\n",
       "                 coef    std err          t      P>|t|      [0.025      0.975]\n",
       "------------------------------------------------------------------------------\n",
       "const        244.9553     13.638     17.962      0.000     215.706     274.205\n",
       "Recovered      0.4475      0.017     25.885      0.000       0.410       0.485\n",
       "==============================================================================\n",
       "Omnibus:                        0.497   Durbin-Watson:                   0.984\n",
       "Prob(Omnibus):                  0.780   Jarque-Bera (JB):                0.393\n",
       "Skew:                          -0.331   Prob(JB):                        0.822\n",
       "Kurtosis:                       2.612   Cond. No.                     2.45e+03\n",
       "==============================================================================\n",
       "\n",
       "Warnings:\n",
       "[1] Standard Errors assume that the covariance matrix of the errors is correctly specified.\n",
       "[2] The condition number is large, 2.45e+03. This might indicate that there are\n",
       "strong multicollinearity or other numerical problems.\n",
       "\"\"\""
      ]
     },
     "execution_count": 90,
     "metadata": {},
     "output_type": "execute_result"
    },
    {
     "data": {
      "image/png": "[encoded data removed]",
      "text/plain": [
       "<Figure size 432x288 with 1 Axes>"
      ]
     },
     "metadata": {},
     "output_type": "display_data"
    }
   ],
   "source": [
    "y = df['Deaths']\n",
    "x1 = df['Recovered']\n",
    "plt.scatter(x1,y)\n",
    "\n",
    "x = sm.add_constant(x1)\n",
    "results = sm.OLS(y,x).fit()\n",
    "results.summary()\n",
    "\n"
   ]
  },
  {
   "cell_type": "code",
   "execution_count": 94,
   "metadata": {},
   "outputs": [
    {
     "data": {
      "image/png": "[encoded data removed]",
      "text/plain": [
       "<Figure size 432x288 with 1 Axes>"
      ]
     },
     "metadata": {},
     "output_type": "display_data"
    }
   ],
   "source": [
    "y = df['Deaths']\n",
    "x1 = df['Recovered']\n",
    "plt.scatter(x1,y)\n",
    "\n",
    "yhat_no = 244.9553 + 0.4475*x1\n",
    "# yhat_yes = 3065.2377 + 3.0119*x1\n",
    "\n",
    "fig = plt.plot(x1,yhat_no, lw= 3, c='Red')\n",
    "# fig = plt.plot(x1,yhat_yes, lw= 3, c ='Yellow')\n",
    "\n",
    "plt.xlabel('Recovered', fontsize = 20)\n",
    "plt.ylabel('Active',fontsize = 20)\n",
    "\n",
    "plt.show()"
   ]
  },
  {
   "cell_type": "code",
   "execution_count": null,
   "metadata": {},
   "outputs": [],
   "source": []
  }
 ],
 "metadata": {
  "kernelspec": {
   "display_name": "Python 3",
   "language": "python",
   "name": "python3"
  },
  "language_info": {
   "codemirror_mode": {
    "name": "ipython",
    "version": 3
   },
   "file_extension": ".py",
   "mimetype": "text/x-python",
   "name": "python",
   "nbconvert_exporter": "python",
   "pygments_lexer": "ipython3",
   "version": "3.8.3"
  }
 },
 "nbformat": 4,
 "nbformat_minor": 4
}
